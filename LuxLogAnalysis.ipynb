{
 "cells": [
  {
   "cell_type": "code",
   "execution_count": null,
   "metadata": {},
   "outputs": [],
   "source": [
    "import glob\n",
    "import json\n",
    "import pandas as pd\n",
    "import datetime\n",
    "import numpy as np\n",
    "import scipy.stats as sp\n",
    "import matplotlib.pyplot as plt"
   ]
  },
  {
   "cell_type": "code",
   "execution_count": null,
   "metadata": {},
   "outputs": [],
   "source": [
    "# gets every log from directory\n",
    "all_logs = glob.glob(\"../logs/*.json\")"
   ]
  },
  {
   "cell_type": "code",
   "execution_count": null,
   "metadata": {},
   "outputs": [],
   "source": [
    "# formats all logs properly \n",
    "# key = session ID\n",
    "# value = json w/ same format as what was originally held in nb metadata\n",
    "formatted_logs = {}\n",
    "\n",
    "for log in all_logs:\n",
    "    f = open(log, 'r')\n",
    "    \n",
    "    # merges body sent from various HTTP Posts\n",
    "    entries = f.read().split('}{')\n",
    "    for i in range(len(entries)):\n",
    "        entries[i] = '{' + entries[i] + '}'\n",
    "    entries[0] = entries[0][1:]\n",
    "    entries[-1] = entries[-1][:-1]\n",
    "    formatted_log = json.loads(entries[0])\n",
    "    for i in range(1,len(entries)):\n",
    "        j = json.loads(entries[i])\n",
    "        history = j['history']\n",
    "        formatted_log['history'].extend(history)\n",
    "    \n",
    "    # get time user started ipynb\n",
    "    formatted_log['startTime'] = formatted_log['history'][0]['time']\n",
    "    formatted_log['endTime'] = formatted_log['history'][len(formatted_log['history'])-1]['time']\n",
    "    \n",
    "    # separates user hash from file name (sessionID)\n",
    "    names = log.split('_')\n",
    "    formatted_log['userHash'] = names[0][5:]\n",
    "    \n",
    "    # excluding Jerry and Doris and potentially others\n",
    "    exclude_list = ['bca87887a1cc89312f7d073fd007ea68', '1a735d0ee6a6f9d7fdab573b50851da7']\n",
    "    if names[0][5:] not in exclude_list:\n",
    "        formatted_logs[names[1][:-5]] = formatted_log\n"
   ]
  },
  {
   "cell_type": "code",
   "execution_count": null,
   "metadata": {},
   "outputs": [],
   "source": [
    "df = pd.DataFrame(formatted_logs).transpose().sort_values('userHash')"
   ]
  },
  {
   "cell_type": "code",
   "execution_count": null,
   "metadata": {},
   "outputs": [],
   "source": [
    "df"
   ]
  },
  {
   "cell_type": "code",
   "execution_count": null,
   "metadata": {},
   "outputs": [],
   "source": [
    "# Number of unique IPs data was sent from\n",
    "df['userHash'].nunique()"
   ]
  },
  {
   "cell_type": "code",
   "execution_count": null,
   "metadata": {},
   "outputs": [],
   "source": [
    "# Creates userGroups based on when notebook was first used\n",
    "def groupDate(x):\n",
    "    if x['startTime'].date() <= datetime.date(2020, 11, 1):\n",
    "        return 'RiseCamp'\n",
    "    elif x['startTime'].date() > datetime.date(2020, 11, 3) and x['startTime'].date() <= datetime.date(2020, 11, 5):\n",
    "        return 'USF'\n",
    "    else:\n",
    "        return 'Other'\n",
    "df['startTime'] = pd.to_datetime(df['startTime'])\n",
    "df['endTime'] = pd.to_datetime(df['endTime'])\n",
    "df['userGroup'] = df.apply(groupDate, axis=1)\n",
    "df = df.sort_values('startTime')"
   ]
  },
  {
   "cell_type": "code",
   "execution_count": null,
   "metadata": {},
   "outputs": [],
   "source": [
    "df.sort_values('userGroup')"
   ]
  },
  {
   "cell_type": "code",
   "execution_count": null,
   "metadata": {},
   "outputs": [],
   "source": [
    "nb_map = {}\n",
    "nbs = df[df['userGroup'] == 'Other']\n",
    "for nb in nbs['nbName']: \n",
    "    if nb in nb_map:\n",
    "        nb_map[nb] += 1\n",
    "    else:\n",
    "        nb_map[nb] = 1\n",
    "nb_map"
   ]
  },
  {
   "cell_type": "code",
   "execution_count": null,
   "metadata": {},
   "outputs": [],
   "source": [
    "len(nbs)"
   ]
  },
  {
   "cell_type": "code",
   "execution_count": null,
   "metadata": {},
   "outputs": [],
   "source": [
    "diff = nbs['endTime'] - nbs['startTime']\n",
    "diff = [x.total_seconds()%3600 / 60 for x in diff]"
   ]
  },
  {
   "cell_type": "code",
   "execution_count": null,
   "metadata": {},
   "outputs": [],
   "source": [
    "plt.hist(diff)\n",
    "plt.xlabel(\"time in minutes\")\n",
    "plt.ylabel('counts')\n",
    "plt.title('time spent in notebooks from new users')\n",
    "plt.show()\n",
    "\n"
   ]
  },
  {
   "cell_type": "code",
   "execution_count": null,
   "metadata": {},
   "outputs": [],
   "source": [
    "def has_0(nbNames):\n",
    "    for nbName in nbNames:\n",
    "        if '0' in nbName:\n",
    "            return 1\n",
    "    return 0\n",
    "def has_1(nbNames):\n",
    "    for nbName in nbNames:\n",
    "        if '1' in nbName:\n",
    "            return 1\n",
    "    return 0\n",
    "def has_2(nbNames):\n",
    "    for nbName in nbNames:\n",
    "        if '2' in nbName:\n",
    "            return 1\n",
    "    return 0\n",
    "def has_3(nbNames):\n",
    "    for nbName in nbNames:\n",
    "        if '3' in nbName:\n",
    "            return 1\n",
    "    return 0\n",
    "def has_4(nbNames):\n",
    "    for nbName in nbNames:\n",
    "        if '4' in nbName:\n",
    "            return 1\n",
    "    return 0"
   ]
  },
  {
   "cell_type": "code",
   "execution_count": null,
   "metadata": {},
   "outputs": [],
   "source": [
    "# Groups users by hash and computes information as to whether user attempt notebook\n",
    "grouped_df = df.groupby('userHash').agg(userGroup=('userGroup', sp.mode), startTime=('startTime', 'min'), endTime=('endTime', 'max'), \n",
    "                                        tried_0=('nbName', has_0), tried_1=('nbName', has_1), tried_2=('nbName', has_2),\n",
    "                                        tried_3=('nbName', has_3), tried_4=('nbName', has_4))\n",
    "grouped_df['userGroup'] = grouped_df['userGroup'].apply(lambda x: x[0][0])\n",
    "grouped_df.sort_values('startTime')"
   ]
  },
  {
   "cell_type": "code",
   "execution_count": null,
   "metadata": {},
   "outputs": [],
   "source": [
    "grouped_df.groupby(\"userGroup\").count()"
   ]
  },
  {
   "cell_type": "code",
   "execution_count": null,
   "metadata": {},
   "outputs": [],
   "source": [
    "# Plots user attemps at tutorial notebooks\n",
    "def plot_nb_progression(df, userGroup, n):\n",
    "    nbNames = ['1-Specify-Intent.ipynb', '2-Quick-Vis.ipynb', '3-widget-vis-export.ipynb', '4-Data-Playground.ipynb'] \n",
    "    counts = [sum(df['tried_1']),sum(df['tried_2']),sum(df['tried_3']),sum(df['tried_4'])]\n",
    "    plt.bar(nbNames , counts)\n",
    "    plt.xticks(nbNames, rotation=45)\n",
    "    plt.title(str(userGroup) + ' Attempts of Tutorial Notebooks n=' + str(n))\n",
    "    plt.ylabel('Counts')\n",
    "    plt.show()\n"
   ]
  },
  {
   "cell_type": "code",
   "execution_count": null,
   "metadata": {},
   "outputs": [],
   "source": [
    "plot_nb_progression(grouped_df, 'Overall', len(grouped_df))"
   ]
  },
  {
   "cell_type": "code",
   "execution_count": null,
   "metadata": {},
   "outputs": [],
   "source": [
    "riseCamp_df = grouped_df[grouped_df['userGroup']=='RiseCamp']\n",
    "plot_nb_progression(riseCamp_df, 'RiseCamp', len(riseCamp_df))"
   ]
  },
  {
   "cell_type": "code",
   "execution_count": null,
   "metadata": {},
   "outputs": [],
   "source": [
    "usf_df = grouped_df[grouped_df['userGroup']=='USF']\n",
    "plot_nb_progression(usf_df, 'USF', len(usf_df))"
   ]
  },
  {
   "cell_type": "code",
   "execution_count": null,
   "metadata": {},
   "outputs": [],
   "source": [
    "playground_df = df[df['nbName'] == '4-Data-Playground.ipynb']\n",
    "playground_df"
   ]
  },
  {
   "cell_type": "code",
   "execution_count": null,
   "metadata": {},
   "outputs": [],
   "source": [
    "# takes care of scrolling issue where if they stop scrolling for a moment, it treats as separate scrolls\n",
    "\n",
    "function_freq = {}\n",
    "timing = {}\n",
    "for log in playground_df['history']:\n",
    "    prev = ''\n",
    "    for entry in log:\n",
    "        if 'stopScroll' not in prev:\n",
    "            if entry['type'] in function_freq.keys():\n",
    "                function_freq[entry['type']] += 1\n",
    "            else:\n",
    "                function_freq[entry['type']] = 1\n",
    "        prev = entry['type']\n",
    "        \n",
    "function_freq['stopScroll'] = function_freq['startScroll']\n",
    "function_freq['initWidget'] = function_freq['initWidget']/2\n",
    "# del function_freq['selectCodeCell']\n",
    "plt.bar(function_freq.keys(), function_freq.values())\n",
    "plt.xticks(list(function_freq.keys()), rotation=90)\n",
    "plt.title('Log Event Frequency')\n",
    "plt.ylabel('Counts')\n",
    "plt.show()\n",
    "        "
   ]
  },
  {
   "cell_type": "code",
   "execution_count": null,
   "metadata": {},
   "outputs": [],
   "source": [
    "lux_events = ['initWidget', 'startScroll', 'stopScroll', 'openWarning', 'switchTab', 'clickVis', 'unclickVis', 'toggleBtnClick', 'intentBtnClick', 'closeWarning', 'exportBtnClick']\n",
    "lux_events"
   ]
  },
  {
   "cell_type": "code",
   "execution_count": null,
   "metadata": {},
   "outputs": [],
   "source": [
    "playground_df['endTime'] - playground_df['startTime']"
   ]
  },
  {
   "cell_type": "code",
   "execution_count": null,
   "metadata": {},
   "outputs": [],
   "source": [
    "grouped_df.reset_index().drop(columns=[\"startTime\",\"endTime\"]).to_csv(\"user_groups.csv\",index=None)"
   ]
  },
  {
   "cell_type": "code",
   "execution_count": null,
   "metadata": {},
   "outputs": [],
   "source": [
    "other_df = grouped_df[grouped_df['userGroup']=='Other']\n",
    "plot_nb_progression(other_df, 'Other', len(other_df))"
   ]
  },
  {
   "cell_type": "code",
   "execution_count": null,
   "metadata": {},
   "outputs": [],
   "source": [
    "other_df"
   ]
  },
  {
   "cell_type": "code",
   "execution_count": null,
   "metadata": {},
   "outputs": [],
   "source": []
  }
 ],
 "metadata": {
  "kernelspec": {
   "display_name": "Python 3",
   "language": "python",
   "name": "python3"
  },
  "language_info": {
   "codemirror_mode": {
    "name": "ipython",
    "version": 3
   },
   "file_extension": ".py",
   "mimetype": "text/x-python",
   "name": "python",
   "nbconvert_exporter": "python",
   "pygments_lexer": "ipython3",
   "version": "3.6.9"
  }
 },
 "nbformat": 4,
 "nbformat_minor": 4
}
