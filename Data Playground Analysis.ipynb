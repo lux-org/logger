{
 "cells": [
  {
   "cell_type": "code",
   "execution_count": null,
   "metadata": {},
   "outputs": [],
   "source": [
    "import glob\n",
    "import json\n",
    "import pandas as pd\n",
    "import datetime\n",
    "import numpy as np\n",
    "import scipy.stats as sp\n",
    "import matplotlib.pyplot as plt"
   ]
  },
  {
   "cell_type": "code",
   "execution_count": null,
   "metadata": {},
   "outputs": [],
   "source": [
    "# gets every log from directory\n",
    "all_logs = glob.glob(\"logs/*.json\")"
   ]
  },
  {
   "cell_type": "code",
   "execution_count": null,
   "metadata": {},
   "outputs": [],
   "source": [
    "# formats all logs properly \n",
    "# key = session ID\n",
    "# value = json w/ same format as what was originally held in nb metadata\n",
    "formatted_logs = {}\n",
    "\n",
    "# all_logs = [\"logs/85b319c4eaae7abe4a4ce5275bee6447_flvg4gvka.json\"]\n",
    "for log in all_logs:\n",
    "    f = open(log, 'r')\n",
    "    \n",
    "    # merges body sent from various HTTP Posts\n",
    "    entries = f.read().split('}{')\n",
    "    for i in range(len(entries)):\n",
    "        entries[i] = '{' + entries[i] + '}'\n",
    "    entries[0] = entries[0][1:]\n",
    "    entries[-1] = entries[-1][:-1]\n",
    "    formatted_log = json.loads(entries[0])\n",
    "    for i in range(1,len(entries)):\n",
    "        j = json.loads(entries[i])\n",
    "        history = j['history']\n",
    "        formatted_log['history'].extend(history)\n",
    "    \n",
    "    # get time user started and ended using ipynb\n",
    "    formatted_log['startTime'] = formatted_log['history'][0]['time']\n",
    "    formatted_log['endTime'] = formatted_log['history'][len(formatted_log['history'])-1]['time']\n",
    "    \n",
    "    # separates user hash from file name (sessionID)\n",
    "    names = log.split('_')\n",
    "    formatted_log['userHash'] = names[0][5:]\n",
    "    \n",
    "    # excluding Jerry and Doris and potentially others\n",
    "    exclude_list = ['bca87887a1cc89312f7d073fd007ea68', '1a735d0ee6a6f9d7fdab573b50851da7']\n",
    "    if names[0][5:] not in exclude_list:\n",
    "        formatted_logs[names[1][:-5]] = formatted_log\n"
   ]
  },
  {
   "cell_type": "code",
   "execution_count": null,
   "metadata": {},
   "outputs": [],
   "source": [
    "df = pd.DataFrame(formatted_logs).transpose().sort_values('nbName')\n",
    "df.index = df.index.rename(\"sessionHash\")\n",
    "df = df.reset_index()"
   ]
  },
  {
   "cell_type": "code",
   "execution_count": null,
   "metadata": {},
   "outputs": [],
   "source": [
    "# Creates userGroups based on when notebook was first used\n",
    "def groupDate(x):\n",
    "    if x['startTime'].date() <= datetime.date(2020, 11, 1):\n",
    "        return 'RiseCamp'\n",
    "    elif x['startTime'].date() > datetime.date(2020, 11, 3) and x['startTime'].date() <= datetime.date(2020, 11, 5):\n",
    "        return 'USF'\n",
    "    else:\n",
    "        return 'Other'\n",
    "df['startTime'] = pd.to_datetime(df['startTime'])\n",
    "df['endTime'] = pd.to_datetime(df['endTime'])\n",
    "df['userGroup'] = df.apply(groupDate, axis=1)\n",
    "df = df.sort_values('startTime')"
   ]
  },
  {
   "cell_type": "code",
   "execution_count": null,
   "metadata": {},
   "outputs": [],
   "source": [
    "playground_df = df[df['nbName'] == '4-Data-Playground.ipynb']\n",
    "playground_df"
   ]
  },
  {
   "cell_type": "code",
   "execution_count": null,
   "metadata": {},
   "outputs": [],
   "source": [
    "lst = list(playground_df['endTime'] - playground_df['startTime'])\n",
    "playground_df['timeSpent'] = playground_df['endTime'] - playground_df['startTime']\n",
    "lst2 = [x.total_seconds()%3600 / 60 for x in lst]\n",
    "lst2 = [lst2[0]] + lst2[2:]"
   ]
  },
  {
   "cell_type": "code",
   "execution_count": null,
   "metadata": {},
   "outputs": [],
   "source": [
    "plt.boxplot(lst2)\n",
    "plt.ylabel(\"Minutes\")\n",
    "plt.title(\"Time Spent in Playground\")\n",
    "plt.show()"
   ]
  },
  {
   "cell_type": "code",
   "execution_count": null,
   "metadata": {},
   "outputs": [],
   "source": [
    "# takes care of scrolling issue where if they stop scrolling for a moment, it treats as separate scrolls\n",
    "\n",
    "function_freq = {}\n",
    "timing = {}\n",
    "for log in playground_df['history']:\n",
    "    prev = ''\n",
    "    for entry in log:\n",
    "        if 'stopScroll' not in prev:\n",
    "            if entry['type'] in function_freq.keys():\n",
    "                function_freq[entry['type']] += 1\n",
    "            else:\n",
    "                function_freq[entry['type']] = 1\n",
    "        prev = entry['type']\n",
    "        \n",
    "function_freq['stopScroll'] = function_freq['startScroll']\n",
    "function_freq['initWidget'] = function_freq['initWidget']/2\n",
    "# del function_freq['selectCodeCell']\n",
    "plt.bar(function_freq.keys(), function_freq.values())\n",
    "plt.xticks(list(function_freq.keys()), rotation=90)\n",
    "plt.title('Log Event Frequency')\n",
    "plt.ylabel('Counts')\n",
    "plt.show()\n",
    "        "
   ]
  },
  {
   "cell_type": "code",
   "execution_count": null,
   "metadata": {},
   "outputs": [],
   "source": [
    "lux_events = ['initWidget', 'startScroll', 'stopScroll', 'openWarning', 'switchTab', 'clickVis', 'unclickVis', 'toggleBtnClick', 'intentBtnClick', 'closeWarning', 'exportBtnClick']\n",
    "lux_counts = []\n",
    "for event in lux_events:\n",
    "    lux_counts.append(function_freq[event])\n",
    "plt.bar(lux_events, lux_counts)\n",
    "plt.xticks(lux_events, rotation=90)\n",
    "plt.title('Lux Event Frequency')\n",
    "plt.ylabel('Counts')\n",
    "plt.show()"
   ]
  },
  {
   "cell_type": "code",
   "execution_count": null,
   "metadata": {},
   "outputs": [],
   "source": [
    "def print_nb_events(history):\n",
    "    prev = ''\n",
    "    for event in history:\n",
    "        label = event['type']\n",
    "        if label == 'startScroll' and prev != 'stopScroll':\n",
    "            print(label)\n",
    "        elif 'startScroll' != label and 'stopScroll' == prev:\n",
    "            print(prev)\n",
    "        elif 'initWidget' not in prev and label in lux_events and 'Scroll' not in label:\n",
    "            print(label)\n",
    "        prev = label\n",
    "\n"
   ]
  },
  {
   "cell_type": "code",
   "execution_count": null,
   "metadata": {},
   "outputs": [],
   "source": [
    "print_nb_events(list(playground_df['history'])[0])"
   ]
  },
  {
   "cell_type": "code",
   "execution_count": null,
   "metadata": {},
   "outputs": [],
   "source": [
    "# Modify index number HERE to step through and print through every single solution\n",
    "submission = playground_df.iloc[16][\"history\"]"
   ]
  },
  {
   "cell_type": "code",
   "execution_count": null,
   "metadata": {},
   "outputs": [],
   "source": [
    "relevant_event = []\n",
    "for event in submission: \n",
    "    if event[\"type\"]!='selectMarkdownCell':\n",
    "        if \"code\" in event:\n",
    "            relevant_event.append(event[\"code\"])\n",
    "\n",
    "# lots of repetitive code, deduplicate event\n",
    "deduplicated_relevant_event = set(relevant_event)\n",
    "print (\"Number of unique number of attempts:\", len(deduplicated_relevant_event))\n",
    "for idx,event in enumerate(deduplicated_relevant_event):\n",
    "    print (f'\\n--Iteration {idx+1}--')\n",
    "    print (event)"
   ]
  },
  {
   "cell_type": "markdown",
   "metadata": {},
   "source": [
    "Measures to compute: \n",
    "\n",
    "- Average number of iterations per notebook\n",
    "- How often are they creating Vis? \n",
    "- How often are they creating VisList?\n",
    "- How often are they setting intent? \n",
    "- How often do they switch from Pandas view to Lux view, and vice versa? (look at `param` in `toggleBtn` events)\n",
    "    - `{'type': 'toggleBtnClick', 'time': '2020-11-04T22:25:33.438Z', 'param': 'pandas'}`"
   ]
  },
  {
   "cell_type": "code",
   "execution_count": null,
   "metadata": {},
   "outputs": [],
   "source": [
    "x = '2020-11-04T22:25:33.438Z'\n",
    "y = '2020-11-04T22:26:33.438Z'\n",
    "x=datetime.datetime.strptime(x,'%Y-%m-%dT%H:%M:%S.%fZ')\n",
    "y=datetime.datetime.strptime(y,'%Y-%m-%dT%H:%M:%S.%fZ')\n",
    "z=y-x\n",
    "z.total_seconds()"
   ]
  },
  {
   "cell_type": "markdown",
   "metadata": {},
   "source": [
    "Other interesting things: \n",
    "  - User actually brought in their own dataset beyond the provided dataset (coffee dataset `4wrrsyero`, AIDS dataset `z31s78hs1` )\n",
    "  - Several users `mnf9invp3` attempted to change a column via pd.to_datetime"
   ]
  },
  {
   "cell_type": "code",
   "execution_count": null,
   "metadata": {},
   "outputs": [],
   "source": [
    "num_iters = []\n",
    "num_intent = []\n",
    "num_vis = []\n",
    "num_vis_list = []\n",
    "num_toggle_pandas = []\n",
    "num_toggle_lux = []\n",
    "scroll_times = {}\n",
    "tab_freq = {}\n",
    "\n",
    "for i in range(len(playground_df)):\n",
    "    submission = playground_df.iloc[i][\"history\"]\n",
    "    relevant_event = []\n",
    "    toggle_pandas_count = 0\n",
    "    toggle_lux_count = 0\n",
    "    start_time = None\n",
    "    for event in submission: \n",
    "        if event[\"type\"]!='selectMarkdownCell':\n",
    "            if \"code\" in event:\n",
    "                relevant_event.append(event[\"code\"])\n",
    "        if event['type'] == 'toggleBtnClick':\n",
    "            if event['param'] == 'pandas':\n",
    "                toggle_pandas_count += 1\n",
    "            else:\n",
    "                toggle_lux_count += 1\n",
    "        if event['type'] == 'startScroll':\n",
    "            start_time = datetime.datetime.strptime(event['time'], '%Y-%m-%dT%H:%M:%S.%fZ')\n",
    "        if event['type'] == 'stopScroll':\n",
    "            scroll_time = datetime.datetime.strptime(event['time'], '%Y-%m-%dT%H:%M:%S.%fZ') - start_time\n",
    "            scroll_time = scroll_time.total_seconds()\n",
    "            if event['param'] in scroll_times:\n",
    "                scroll_times[event['param']] += scroll_time\n",
    "            else:\n",
    "                scroll_times[event['param']] = scroll_time\n",
    "        if event['type'] == 'switchTab':\n",
    "            if event['param'] in tab_freq:\n",
    "                tab_freq[event['param']] += 1\n",
    "            else:\n",
    "                tab_freq[event['param']] = 1\n",
    "\n",
    "    # lots of repetitive code, deduplicate event\n",
    "    deduplicated_relevant_event = set(relevant_event)\n",
    "#     print (\"Number of unique number of attempts:\", len(deduplicated_relevant_event))\n",
    "    intent_count = 0\n",
    "    vis_count = 0\n",
    "    vis_list_count = 0\n",
    "    for idx,event in enumerate(deduplicated_relevant_event):\n",
    "        if '.intent' in event:\n",
    "            intent_count += 1\n",
    "        if 'Vis(' in event:\n",
    "            vis_count += 1\n",
    "        if 'VisList(' in event:\n",
    "            vis_list_count += 1\n",
    "#         print (f'\\n--Iteration {idx+1}--')\n",
    "#         print (event)\n",
    "    num_iters.append(len(deduplicated_relevant_event))\n",
    "    num_intent.append(intent_count)\n",
    "    num_vis.append(vis_count)\n",
    "    num_vis_list.append(vis_list_count)\n",
    "    num_toggle_pandas.append(toggle_pandas_count)\n",
    "    num_toggle_lux.append(toggle_lux_count)"
   ]
  },
  {
   "cell_type": "code",
   "execution_count": null,
   "metadata": {},
   "outputs": [],
   "source": [
    "plt.bar(scroll_times.keys(), scroll_times.values())\n",
    "plt.xticks(list(scroll_times.keys()), rotation=45)\n",
    "plt.ylabel(\"Seconds\")\n",
    "plt.title(\"Time Spent Scrolling in Tab\")\n",
    "plt.show()"
   ]
  },
  {
   "cell_type": "code",
   "execution_count": null,
   "metadata": {},
   "outputs": [],
   "source": [
    "plt.bar(tab_freq.keys(), tab_freq.values())\n",
    "plt.xticks(list(tab_freq.keys()), rotation=45)\n",
    "plt.ylabel(\"Occurances\")\n",
    "plt.title(\"Frequency of Switching to Tab\")\n",
    "plt.show()"
   ]
  },
  {
   "cell_type": "code",
   "execution_count": null,
   "metadata": {},
   "outputs": [],
   "source": [
    "playground_df['num_iters'] = num_iters\n",
    "playground_df['num_intent'] = num_intent\n",
    "playground_df['num_vis'] = num_vis\n",
    "playground_df['num_vis_list'] = num_vis_list\n",
    "playground_df['num_toggle_pandas'] = num_toggle_pandas\n",
    "playground_df['num_toggle_lux'] = num_toggle_lux\n",
    "\n",
    "\n"
   ]
  },
  {
   "cell_type": "code",
   "execution_count": null,
   "metadata": {},
   "outputs": [],
   "source": [
    "playground_df\n",
    "\n"
   ]
  },
  {
   "cell_type": "code",
   "execution_count": null,
   "metadata": {},
   "outputs": [],
   "source": []
  }
 ],
 "metadata": {
  "kernelspec": {
   "display_name": "Python 3",
   "language": "python",
   "name": "python3"
  },
  "language_info": {
   "codemirror_mode": {
    "name": "ipython",
    "version": 3
   },
   "file_extension": ".py",
   "mimetype": "text/x-python",
   "name": "python",
   "nbconvert_exporter": "python",
   "pygments_lexer": "ipython3",
   "version": "3.6.9"
  }
 },
 "nbformat": 4,
 "nbformat_minor": 4
}
